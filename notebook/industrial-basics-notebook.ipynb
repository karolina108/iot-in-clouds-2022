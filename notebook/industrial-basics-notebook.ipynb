{
 "cells": [
  {
   "cell_type": "code",
   "execution_count": null,
   "metadata": {},
   "outputs": [],
   "source": [
    "import boto3"
   ]
  },
  {
   "cell_type": "code",
   "execution_count": null,
   "metadata": {},
   "outputs": [],
   "source": [
    "AWS_ACCESS_KEY_ID=\"REPLACE\"\n",
    "AWS_SECRET_ACCESS_KEY=\"REPLACE_WITH_MODEL_ID\"\n",
    "AWS_SESSION_TOKEN=\"REPLACE_WITH_MODEL_ID\""
   ]
  },
  {
   "cell_type": "code",
   "execution_count": null,
   "metadata": {},
   "outputs": [],
   "source": [
    "iotsitewise = boto3.client('iotsitewise',\n",
    "    aws_access_key_id=AWS_ACCESS_KEY_ID,\n",
    "    aws_secret_access_key=AWS_SECRET_ACCESS_KEY,\n",
    "    aws_session_token=AWS_SESSION_TOKEN\n",
    "    )"
   ]
  },
  {
   "cell_type": "code",
   "execution_count": null,
   "metadata": {},
   "outputs": [],
   "source": [
    "result = iotsitewise.list_asset_models()\n",
    "result"
   ]
  },
  {
   "cell_type": "code",
   "execution_count": null,
   "metadata": {},
   "outputs": [],
   "source": [
    "asset_model_summaries = result.get('assetModelSummaries')\n",
    "\n",
    "models = []\n",
    "for summary in asset_model_summaries:\n",
    "    model_id = summary.get('id')\n",
    "    model_name = summary.get('name')\n",
    "    model = {\n",
    "        'id': model_id,\n",
    "        'name': model_name\n",
    "    }\n",
    "    models.append(model)\n",
    "\n",
    "models"
   ]
  },
  {
   "cell_type": "code",
   "execution_count": null,
   "metadata": {},
   "outputs": [],
   "source": [
    "assets = []\n",
    "hierarchies = []\n",
    "\n",
    "for model in models:\n",
    "    id = model.get('id')\n",
    "    result = iotsitewise.list_assets(\n",
    "        filter='ALL',\n",
    "        assetModelId=id\n",
    "    )\n",
    "\n",
    "    summaries = result.get('assetSummaries')\n",
    "\n",
    "    for summary in summaries:\n",
    "        asset_name = summary.get('name')\n",
    "        asset_id = summary.get('id')\n",
    "        asset_arn = summary.get('arn')\n",
    "        asset_model_id = summary.get('assetModelId')\n",
    "        asset_hierarchies = summary.get('hierarchies')\n",
    "        asset_properties = summary.get('')\n",
    "\n",
    "        asset = {\n",
    "            'name': asset_name,\n",
    "            'id': asset_id,\n",
    "            'arn': asset_arn,\n",
    "            'model_id': asset_model_id,\n",
    "            'hierarchies': asset_hierarchies\n",
    "        }\n",
    "\n",
    "        assets.append(asset)\n",
    "\n",
    "        for hierarchy in asset_hierarchies:\n",
    "            hierarchies.append(hierarchy)\n",
    "\n",
    "assets\n",
    "#hierarchies"
   ]
  },
  {
   "cell_type": "code",
   "execution_count": null,
   "metadata": {},
   "outputs": [],
   "source": [
    "# associate Cutting Machine\n",
    "\n",
    "suffix = 'DEMO'\n",
    "\n",
    "cutting_machine_DEMO = list(filter(lambda item: item.get('name') == 'cutting-machine-DEMO', assets))[0]\n",
    "cutting_machine_DEMO\n"
   ]
  },
  {
   "cell_type": "code",
   "execution_count": null,
   "metadata": {},
   "outputs": [],
   "source": [
    "\n",
    "# associate status meter\n",
    "status_meter_hierarchy_id = list(filter(lambda item: item.get('name') == 'StatusMeterModel', cutting_machine_DEMO.get('hierarchies')))[0].get('id')\n",
    "cutting_machine_DEMO_status_meter = list(filter(lambda item: item.get('name') == 'cutting-machine-DEMO-status-meter', assets))[0]\n",
    "\n",
    "result = iotsitewise.associate_assets(\n",
    "    assetId=cutting_machine_DEMO.get('id'),\n",
    "    hierarchyId=status_meter_hierarchy_id,\n",
    "    childAssetId=cutting_machine_DEMO_status_meter.get('id')\n",
    ")\n",
    "\n"
   ]
  },
  {
   "cell_type": "code",
   "execution_count": null,
   "metadata": {},
   "outputs": [],
   "source": [
    "# associate power meter\n",
    "power_meter_hierarchy_id = list(filter(lambda item: item.get('name') == 'PowerMeterModel', cutting_machine_DEMO.get('hierarchies')))[0].get('id')\n",
    "cutting_machine_DEMO_power_meter = list(filter(lambda item: item.get('name') == 'cutting-machine-DEMO-power-meter', assets))[0]\n",
    "\n",
    "result = iotsitewise.associate_assets(\n",
    "    assetId=cutting_machine_DEMO.get('id'),\n",
    "    hierarchyId=power_meter_hierarchy_id,\n",
    "    childAssetId=cutting_machine_DEMO_power_meter.get('id')\n",
    ")"
   ]
  },
  {
   "cell_type": "code",
   "execution_count": null,
   "metadata": {},
   "outputs": [],
   "source": [
    "# associate counter\n",
    "counter_hierarchy_id = list(filter(lambda item: item.get('name') == 'CounterModel', cutting_machine_DEMO.get('hierarchies')))[0].get('id')\n",
    "cutting_machine_DEMO_counter = list(filter(lambda item: item.get('name') == 'cutting-machine-DEMO-counter', assets))[0]\n",
    "\n",
    "result = iotsitewise.associate_assets(\n",
    "    assetId=cutting_machine_DEMO.get('id'),\n",
    "    hierarchyId=counter_hierarchy_id,\n",
    "    childAssetId=cutting_machine_DEMO_counter.get('id')\n",
    ")"
   ]
  },
  {
   "cell_type": "code",
   "execution_count": null,
   "metadata": {},
   "outputs": [],
   "source": [
    "# associate cutting blade\n",
    "cutting_blade_hierarchy_id = list(filter(lambda item: item.get('name') == 'CuttingBladeModel', cutting_machine_DEMO.get('hierarchies')))[0].get('id')\n",
    "cutting_machine_DEMO_cutting_blade = list(filter(lambda item: item.get('name') == 'cutting-machine-DEMO-cutting-blade', assets))[0]\n",
    "\n",
    "result = iotsitewise.associate_assets(\n",
    "    assetId=cutting_machine_DEMO.get('id'),\n",
    "    hierarchyId=cutting_blade_hierarchy_id,\n",
    "    childAssetId=cutting_machine_DEMO_cutting_blade.get('id')\n",
    ")"
   ]
  },
  {
   "cell_type": "code",
   "execution_count": null,
   "metadata": {},
   "outputs": [],
   "source": [
    "# associate Packing Machine\n",
    "\n",
    "suffix = 'DEMO'\n",
    "\n",
    "packing_machine_DEMO = list(filter(lambda item: item.get('name') == 'packing-machine-DEMO', assets))[0]\n",
    "packing_machine_DEMO"
   ]
  },
  {
   "cell_type": "code",
   "execution_count": null,
   "metadata": {},
   "outputs": [],
   "source": [
    "\n",
    "# associate status meter\n",
    "status_meter_hierarchy_id = list(filter(lambda item: item.get('name') == 'StatusMeterModel', packing_machine_DEMO.get('hierarchies')))[0].get('id')\n",
    "packing_machine_DEMO_status_meter = list(filter(lambda item: item.get('name') == 'packing-machine-DEMO-status-meter', assets))[0]\n",
    "\n",
    "result = iotsitewise.associate_assets(\n",
    "    assetId=packing_machine_DEMO.get('id'),\n",
    "    hierarchyId=status_meter_hierarchy_id,\n",
    "    childAssetId=packing_machine_DEMO_status_meter.get('id')\n",
    ")\n",
    "\n"
   ]
  },
  {
   "cell_type": "code",
   "execution_count": null,
   "metadata": {},
   "outputs": [],
   "source": [
    "# associate power meter\n",
    "power_meter_hierarchy_id = list(filter(lambda item: item.get('name') == 'PowerMeterModel', packing_machine_DEMO.get('hierarchies')))[0].get('id')\n",
    "packing_machine_DEMO_power_meter = list(filter(lambda item: item.get('name') == 'packing-machine-DEMO-power-meter', assets))[0]\n",
    "\n",
    "result = iotsitewise.associate_assets(\n",
    "    assetId=packing_machine_DEMO.get('id'),\n",
    "    hierarchyId=power_meter_hierarchy_id,\n",
    "    childAssetId=packing_machine_DEMO_power_meter.get('id')\n",
    ")"
   ]
  },
  {
   "cell_type": "code",
   "execution_count": null,
   "metadata": {},
   "outputs": [],
   "source": [
    "# associate counter\n",
    "counter_hierarchy_id = list(filter(lambda item: item.get('name') == 'CounterModel', packing_machine_DEMO.get('hierarchies')))[0].get('id')\n",
    "packing_machine_DEMO_counter = list(filter(lambda item: item.get('name') == 'packing-machine-DEMO-counter', assets))[0]\n",
    "\n",
    "result = iotsitewise.associate_assets(\n",
    "    assetId=packing_machine_DEMO.get('id'),\n",
    "    hierarchyId=counter_hierarchy_id,\n",
    "    childAssetId=packing_machine_DEMO_counter.get('id')\n",
    ")"
   ]
  },
  {
   "cell_type": "code",
   "execution_count": null,
   "metadata": {},
   "outputs": [],
   "source": [
    "# associate Wrapping Machine\n",
    "\n",
    "suffix = 'DEMO'\n",
    "\n",
    "wrapping_machine_DEMO = list(filter(lambda item: item.get('name') == 'wrapping-machine-DEMO', assets))[0]\n",
    "wrapping_machine_DEMO"
   ]
  },
  {
   "cell_type": "code",
   "execution_count": null,
   "metadata": {},
   "outputs": [],
   "source": [
    "\n",
    "# associate status meter\n",
    "status_meter_hierarchy_id = list(filter(lambda item: item.get('name') == 'StatusMeterModel', wrapping_machine_DEMO.get('hierarchies')))[0].get('id')\n",
    "wrapping_machine_DEMO_status_meter = list(filter(lambda item: item.get('name') == 'wrapping-machine-DEMO-status-meter', assets))[0]\n",
    "\n",
    "result = iotsitewise.associate_assets(\n",
    "    assetId=wrapping_machine_DEMO.get('id'),\n",
    "    hierarchyId=status_meter_hierarchy_id,\n",
    "    childAssetId=wrapping_machine_DEMO_status_meter.get('id')\n",
    ")\n",
    "\n"
   ]
  },
  {
   "cell_type": "code",
   "execution_count": null,
   "metadata": {},
   "outputs": [],
   "source": [
    "# associate power meter\n",
    "power_meter_hierarchy_id = list(filter(lambda item: item.get('name') == 'PowerMeterModel', wrapping_machine_DEMO.get('hierarchies')))[0].get('id')\n",
    "wrapping_machine_DEMO_power_meter = list(filter(lambda item: item.get('name') == 'wrapping-machine-DEMO-power-meter', assets))[0]\n",
    "\n",
    "result = iotsitewise.associate_assets(\n",
    "    assetId=wrapping_machine_DEMO.get('id'),\n",
    "    hierarchyId=power_meter_hierarchy_id,\n",
    "    childAssetId=wrapping_machine_DEMO_power_meter.get('id')\n",
    ")"
   ]
  },
  {
   "cell_type": "code",
   "execution_count": null,
   "metadata": {},
   "outputs": [],
   "source": [
    "# associate counter\n",
    "counter_hierarchy_id = list(filter(lambda item: item.get('name') == 'CounterModel', wrapping_machine_DEMO.get('hierarchies')))[0].get('id')\n",
    "wrapping_machine_DEMO_counter = list(filter(lambda item: item.get('name') == 'wrapping-machine-DEMO-counter', assets))[0]\n",
    "\n",
    "result = iotsitewise.associate_assets(\n",
    "    assetId=wrapping_machine_DEMO.get('id'),\n",
    "    hierarchyId=counter_hierarchy_id,\n",
    "    childAssetId=wrapping_machine_DEMO_counter.get('id')\n",
    ")"
   ]
  },
  {
   "cell_type": "code",
   "execution_count": null,
   "metadata": {},
   "outputs": [],
   "source": [
    "# associate Production Line\n",
    "\n",
    "suffix = 'DEMO'\n",
    "\n",
    "production_line_DEMO = list(filter(lambda item: item.get('name') == 'production-line-DEMO', assets))[0]\n",
    "production_line_DEMO"
   ]
  },
  {
   "cell_type": "code",
   "execution_count": null,
   "metadata": {},
   "outputs": [],
   "source": [
    "# associate Cutting Machine\n",
    "cutting_machine_hierarchy_id = list(filter(lambda item: item.get('name') == 'CuttingMachineModel', production_line_DEMO.get('hierarchies')))[0].get('id')\n",
    "cutting_machine_DEMO = list(filter(lambda item: item.get('name') == 'cutting-machine-DEMO', assets))[0]\n",
    "\n",
    "result = iotsitewise.associate_assets(\n",
    "    assetId=production_line_DEMO.get('id'),\n",
    "    hierarchyId=cutting_machine_hierarchy_id,\n",
    "    childAssetId=cutting_machine_DEMO.get('id')\n",
    ")"
   ]
  },
  {
   "cell_type": "code",
   "execution_count": null,
   "metadata": {},
   "outputs": [],
   "source": [
    "# associate Packing Machine\n",
    "packing_machine_hierarchy_id = list(filter(lambda item: item.get('name') == 'PackingMachineModel', production_line_DEMO.get('hierarchies')))[0].get('id')\n",
    "packing_machine_DEMO = list(filter(lambda item: item.get('name') == 'packing-machine-DEMO', assets))[0]\n",
    "\n",
    "result = iotsitewise.associate_assets(\n",
    "    assetId=production_line_DEMO.get('id'),\n",
    "    hierarchyId=packing_machine_hierarchy_id,\n",
    "    childAssetId=packing_machine_DEMO.get('id')\n",
    ")"
   ]
  },
  {
   "cell_type": "code",
   "execution_count": null,
   "metadata": {},
   "outputs": [],
   "source": [
    "# associate Wrapping Machine\n",
    "wrapping_machine_hierarchy_id = list(filter(lambda item: item.get('name') == 'WrappingMachineModel', production_line_DEMO.get('hierarchies')))[0].get('id')\n",
    "wrapping_machine_DEMO = list(filter(lambda item: item.get('name') == 'wrapping-machine-DEMO', assets))[0]\n",
    "\n",
    "result = iotsitewise.associate_assets(\n",
    "    assetId=production_line_DEMO.get('id'),\n",
    "    hierarchyId=wrapping_machine_hierarchy_id,\n",
    "    childAssetId=wrapping_machine_DEMO.get('id')\n",
    ")"
   ]
  },
  {
   "cell_type": "code",
   "execution_count": null,
   "metadata": {},
   "outputs": [],
   "source": [
    "# Set Aliases - Cutting Machine Status Meter\n",
    "\n",
    "cutting_machine_DEMO_status_meter_asset = iotsitewise.describe_asset(\n",
    "    assetId = cutting_machine_DEMO_status_meter.get('id')\n",
    ")\n",
    "\n",
    "cutting_machine_DEMO_status_meter_properties = cutting_machine_DEMO_status_meter_asset.get('assetProperties')\n",
    "\n",
    "status_property_id = list(filter(lambda item: item.get('name') == 'Status', cutting_machine_DEMO_status_meter_properties))[0].get('id')\n",
    "status_property_id\n",
    "\n",
    "alias = 'opcua-server/CuttingMachineDEMO/StatusMeter/Status'\n",
    "\n",
    "result = iotsitewise.update_asset_property(\n",
    "            assetId = cutting_machine_DEMO_status_meter.get('id'),\n",
    "            propertyId = status_property_id,\n",
    "            propertyNotificationState = 'ENABLED'\n",
    ")\n",
    "result = iotsitewise.associate_time_series_to_asset_property(\n",
    "            assetId = cutting_machine_DEMO_status_meter.get('id'),\n",
    "            propertyId = status_property_id,\n",
    "            alias = alias\n",
    ")\n"
   ]
  },
  {
   "cell_type": "code",
   "execution_count": null,
   "metadata": {},
   "outputs": [],
   "source": [
    "# Set Aliases - Cutting Machine Power Meter\n",
    "\n",
    "cutting_machine_DEMO_power_meter_asset = iotsitewise.describe_asset(\n",
    "    assetId = cutting_machine_DEMO_power_meter.get('id')\n",
    ")\n",
    "\n",
    "cutting_machine_DEMO_power_meter_properties = cutting_machine_DEMO_power_meter_asset.get('assetProperties')\n",
    "\n",
    "power_usage_property_id = list(filter(lambda item: item.get('name') == 'PowerUsage', cutting_machine_DEMO_power_meter_properties))[0].get('id')\n",
    "\n",
    "alias = 'opcua-server/CuttingMachineDEMO/PowerMeter/PowerUsage'\n",
    "\n",
    "result = iotsitewise.update_asset_property(\n",
    "            assetId = cutting_machine_DEMO_power_meter.get('id'),\n",
    "            propertyId = power_usage_property_id,\n",
    "            propertyNotificationState = 'ENABLED'\n",
    ")\n",
    "result = iotsitewise.associate_time_series_to_asset_property(\n",
    "            assetId = cutting_machine_DEMO_power_meter.get('id'),\n",
    "            propertyId = power_usage_property_id,\n",
    "            alias = alias\n",
    ")\n"
   ]
  },
  {
   "cell_type": "code",
   "execution_count": null,
   "metadata": {},
   "outputs": [],
   "source": [
    "# Set Aliases - Cutting Machine Counter\n",
    "\n",
    "cutting_machine_DEMO_counter_asset = iotsitewise.describe_asset(\n",
    "    assetId = cutting_machine_DEMO_counter.get('id')\n",
    ")\n",
    "\n",
    "cutting_machine_DEMO_counter_properties = cutting_machine_DEMO_counter_asset.get('assetProperties')\n",
    "\n",
    "count_property_id = list(filter(lambda item: item.get('name') == 'Count', cutting_machine_DEMO_counter_properties))[0].get('id')\n",
    "\n",
    "alias = 'opcua-server/CuttingMachineDEMO/Counter/Count'\n",
    "\n",
    "result = iotsitewise.update_asset_property(\n",
    "            assetId = cutting_machine_DEMO_counter.get('id'),\n",
    "            propertyId = count_property_id,\n",
    "            propertyNotificationState = 'ENABLED'\n",
    ")\n",
    "result = iotsitewise.associate_time_series_to_asset_property(\n",
    "            assetId = cutting_machine_DEMO_counter.get('id'),\n",
    "            propertyId = count_property_id,\n",
    "            alias = alias\n",
    ")\n"
   ]
  },
  {
   "cell_type": "code",
   "execution_count": null,
   "metadata": {},
   "outputs": [],
   "source": [
    "# Set Aliases - Cutting Machine Cutting Blade\n",
    "\n",
    "cutting_machine_DEMO_cutting_blade_asset = iotsitewise.describe_asset(\n",
    "    assetId = cutting_machine_DEMO_cutting_blade.get('id')\n",
    ")\n",
    "\n",
    "cutting_machine_DEMO_cutting_blade_properties = cutting_machine_DEMO_cutting_blade_asset.get('assetProperties')\n",
    "\n",
    "speed_property_id = list(filter(lambda item: item.get('name') == 'Speed', cutting_machine_DEMO_cutting_blade_properties))[0].get('id')\n",
    "\n",
    "alias = 'opcua-server/CuttingMachineDEMO/CuttingBlade/Speed'\n",
    "\n",
    "# result = iotsitewise.update_asset_property(\n",
    "#             assetId = cutting_machine_DEMO_cutting_blade.get('id'),\n",
    "#             propertyId = speed_property_id,\n",
    "#             propertyNotificationState = 'ENABLED'\n",
    "# )\n",
    "result = iotsitewise.associate_time_series_to_asset_property(\n",
    "            assetId = cutting_machine_DEMO_cutting_blade.get('id'),\n",
    "            propertyId = speed_property_id,\n",
    "            alias = alias\n",
    ")\n"
   ]
  },
  {
   "cell_type": "code",
   "execution_count": 92,
   "metadata": {},
   "outputs": [],
   "source": [
    "# Set Aliases - Packing Machine Status Meter\n",
    "\n",
    "packing_machine_DEMO_status_meter_asset = iotsitewise.describe_asset(\n",
    "    assetId = packing_machine_DEMO_status_meter.get('id')\n",
    ")\n",
    "\n",
    "packing_machine_DEMO_status_meter_properties = packing_machine_DEMO_status_meter_asset.get('assetProperties')\n",
    "\n",
    "status_property_id = list(filter(lambda item: item.get('name') == 'Status', packing_machine_DEMO_status_meter_properties))[0].get('id')\n",
    "\n",
    "alias = 'opcua-server/PackingMachineDEMO/StatusMeter/Status'\n",
    "\n",
    "result = iotsitewise.update_asset_property(\n",
    "            assetId = packing_machine_DEMO_status_meter.get('id'),\n",
    "            propertyId = status_property_id,\n",
    "            propertyNotificationState = 'ENABLED'\n",
    ")\n",
    "result = iotsitewise.associate_time_series_to_asset_property(\n",
    "            assetId = packing_machine_DEMO_status_meter.get('id'),\n",
    "            propertyId = status_property_id,\n",
    "            alias = alias\n",
    ")\n"
   ]
  },
  {
   "cell_type": "code",
   "execution_count": 93,
   "metadata": {},
   "outputs": [],
   "source": [
    "# Set Aliases - Packing Machine Power Meter\n",
    "\n",
    "packing_machine_DEMO_power_meter_asset = iotsitewise.describe_asset(\n",
    "    assetId = packing_machine_DEMO_power_meter.get('id')\n",
    ")\n",
    "\n",
    "packing_machine_DEMO_power_meter_properties = packing_machine_DEMO_power_meter_asset.get('assetProperties')\n",
    "\n",
    "power_usage_property_id = list(filter(lambda item: item.get('name') == 'PowerUsage', packing_machine_DEMO_power_meter_properties))[0].get('id')\n",
    "\n",
    "alias = 'opcua-server/PackingMachineDEMO/PowerMeter/PowerUsage'\n",
    "\n",
    "result = iotsitewise.update_asset_property(\n",
    "            assetId = packing_machine_DEMO_power_meter.get('id'),\n",
    "            propertyId = power_usage_property_id,\n",
    "            propertyNotificationState = 'ENABLED'\n",
    ")\n",
    "result = iotsitewise.associate_time_series_to_asset_property(\n",
    "            assetId = packing_machine_DEMO_power_meter.get('id'),\n",
    "            propertyId = power_usage_property_id,\n",
    "            alias = alias\n",
    ")\n"
   ]
  },
  {
   "cell_type": "code",
   "execution_count": 94,
   "metadata": {},
   "outputs": [],
   "source": [
    "# Set Aliases - Packing Machine Counter\n",
    "\n",
    "packing_machine_DEMO_counter_asset = iotsitewise.describe_asset(\n",
    "    assetId = packing_machine_DEMO_counter.get('id')\n",
    ")\n",
    "\n",
    "packing_machine_DEMO_counter_properties = packing_machine_DEMO_counter_asset.get('assetProperties')\n",
    "\n",
    "count_property_id = list(filter(lambda item: item.get('name') == 'Count', packing_machine_DEMO_counter_properties))[0].get('id')\n",
    "\n",
    "alias = 'opcua-server/PackingMachineDEMO/Counter/Count'\n",
    "\n",
    "result = iotsitewise.update_asset_property(\n",
    "            assetId = packing_machine_DEMO_counter.get('id'),\n",
    "            propertyId = count_property_id,\n",
    "            propertyNotificationState = 'ENABLED'\n",
    ")\n",
    "result = iotsitewise.associate_time_series_to_asset_property(\n",
    "            assetId = packing_machine_DEMO_counter.get('id'),\n",
    "            propertyId = count_property_id,\n",
    "            alias = alias\n",
    ")"
   ]
  },
  {
   "cell_type": "code",
   "execution_count": 95,
   "metadata": {},
   "outputs": [],
   "source": [
    "# Set Aliases - Wrapping Machine Status Meter\n",
    "\n",
    "wrapping_machine_DEMO_status_meter_asset = iotsitewise.describe_asset(\n",
    "    assetId = packing_machine_DEMO_status_meter.get('id')\n",
    ")\n",
    "\n",
    "wrapping_machine_DEMO_status_meter_properties = wrapping_machine_DEMO_status_meter_asset.get('assetProperties')\n",
    "\n",
    "status_property_id = list(filter(lambda item: item.get('name') == 'Status', wrapping_machine_DEMO_status_meter_properties))[0].get('id')\n",
    "\n",
    "alias = 'opcua-server/WrappingMachineDEMO/StatusMeter/Status'\n",
    "\n",
    "result = iotsitewise.update_asset_property(\n",
    "            assetId = wrapping_machine_DEMO_status_meter.get('id'),\n",
    "            propertyId = status_property_id,\n",
    "            propertyNotificationState = 'ENABLED'\n",
    ")\n",
    "result = iotsitewise.associate_time_series_to_asset_property(\n",
    "            assetId = wrapping_machine_DEMO_status_meter.get('id'),\n",
    "            propertyId = status_property_id,\n",
    "            alias = alias\n",
    ")\n"
   ]
  },
  {
   "cell_type": "code",
   "execution_count": 96,
   "metadata": {},
   "outputs": [],
   "source": [
    "# Set Aliases - Wrapping Machine Power Meter\n",
    "\n",
    "wrapping_machine_DEMO_power_meter_asset = iotsitewise.describe_asset(\n",
    "    assetId = wrapping_machine_DEMO_power_meter.get('id')\n",
    ")\n",
    "\n",
    "wrapping_machine_DEMO_power_meter_properties = wrapping_machine_DEMO_power_meter_asset.get('assetProperties')\n",
    "\n",
    "power_usage_property_id = list(filter(lambda item: item.get('name') == 'PowerUsage', wrapping_machine_DEMO_power_meter_properties))[0].get('id')\n",
    "\n",
    "alias = 'opcua-server/WrappingMachineDEMO/PowerMeter/PowerUsage'\n",
    "\n",
    "result = iotsitewise.update_asset_property(\n",
    "            assetId = wrapping_machine_DEMO_power_meter.get('id'),\n",
    "            propertyId = power_usage_property_id,\n",
    "            propertyNotificationState = 'ENABLED'\n",
    ")\n",
    "result = iotsitewise.associate_time_series_to_asset_property(\n",
    "            assetId = wrapping_machine_DEMO_power_meter.get('id'),\n",
    "            propertyId = power_usage_property_id,\n",
    "            alias = alias\n",
    ")\n"
   ]
  },
  {
   "cell_type": "code",
   "execution_count": null,
   "metadata": {},
   "outputs": [],
   "source": [
    "# Set Aliases - Wrapping Machine Counter\n",
    "\n",
    "wrapping_machine_DEMO_counter_asset = iotsitewise.describe_asset(\n",
    "    assetId = wrapping_machine_DEMO_counter.get('id')\n",
    ")\n",
    "\n",
    "wrapping_machine_DEMO_counter_properties = wrapping_machine_DEMO_counter_asset.get('assetProperties')\n",
    "\n",
    "count_property_id = list(filter(lambda item: item.get('name') == 'Count', wrapping_machine_DEMO_counter_properties))[0].get('id')\n",
    "\n",
    "alias = 'opcua-server/WrappingMachineDEMO/Counter/Count'\n",
    "\n",
    "result = iotsitewise.update_asset_property(\n",
    "            assetId = wrapping_machine_DEMO_counter.get('id'),\n",
    "            propertyId = count_property_id,\n",
    "            propertyNotificationState = 'ENABLED'\n",
    ")\n",
    "result = iotsitewise.associate_time_series_to_asset_property(\n",
    "            assetId = wrapping_machine_DEMO_counter.get('id'),\n",
    "            propertyId = count_property_id,\n",
    "            alias = alias\n",
    ")"
   ]
  }
 ],
 "metadata": {
  "kernelspec": {
   "display_name": "Python 3.8.13 ('aws-iot-VR_OOyBB')",
   "language": "python",
   "name": "python3"
  },
  "language_info": {
   "codemirror_mode": {
    "name": "ipython",
    "version": 3
   },
   "file_extension": ".py",
   "mimetype": "text/x-python",
   "name": "python",
   "nbconvert_exporter": "python",
   "pygments_lexer": "ipython3",
   "version": "3.8.13"
  },
  "orig_nbformat": 4,
  "vscode": {
   "interpreter": {
    "hash": "390c6a1be2f8c4ad5687cb0bebcfa240a050c60fc7e1f924d6e54c20bfd1a59e"
   }
  }
 },
 "nbformat": 4,
 "nbformat_minor": 2
}
